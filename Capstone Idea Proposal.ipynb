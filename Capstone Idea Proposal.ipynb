{
 "cells": [
  {
   "cell_type": "markdown",
   "metadata": {},
   "source": [
    "# Capstone Idea Proposal\n",
    "\n",
    "### Idea 1: Yelp\n",
    "\n",
    "Data provided by Yelp, can be used to analyze the customers’ opinions and understand why they gave a good/bad review. This data set is available on their site (__[link](https://www.yelp.com/dataset/download)__). They have provided multiple datasets with different information regarding users, trips, review, photos, checkins, and business details.\n",
    "\n",
    "Questions to be explored:\n",
    "\n",
    "Is it a good or bad experience that motivates a person to write a review?\n",
    "Do people with more reviews go with the majority? ie. do people who write more reviews know what they're talking about?\n",
    "Can you trust reviews that are done by people with minimal reviews? ie. Are new people biased? Are they just friends of the owner?\n",
    "Should the stars be weighted based on certain criteria? ie. Does a 5 star restaurant in a small city equal the same quality in a big city? Are people more critical when they have more options? Are all reviews/stars created equal?\n",
    "\n",
    "### Idea 2: Adult Data Set\n",
    "\n",
    "Data collected from Census database can be used to predict whether a person’s income is above or below $50,000.\n",
    "\n",
    "The data set is listed on the UCI Machine Learning Repository (__[link](http://archive.ics.uci.edu/ml/datasets/Adult)__). There are 48,842 rows of data with 14 columns of attributes. The data set contains missing values. Since the number of instances collected is so high, we can use a sample of this data set to predict whether the person’s income is above or below $50,000.\n",
    "\n",
    "Areas to be explored:\n",
    "\n",
    "Companies would be interested in these findings as they can use this to customize their marketing strategies based on the groups of people\n",
    "\n",
    "### Idea 3: Disney\n",
    "\n",
    "Using wait times of Disney rides, predict what is the best day/time to ride that attraction.\n",
    "\n",
    "The data set can be found on the touring plans site. (__[link](https://touringplans.com/blog/2018/06/25/disney-world-wait-times-available-for-data-science-and-machine-learning/)__) "
   ]
  }
 ],
 "metadata": {
  "kernelspec": {
   "display_name": "Python 3",
   "language": "python",
   "name": "python3"
  },
  "language_info": {
   "codemirror_mode": {
    "name": "ipython",
    "version": 3
   },
   "file_extension": ".py",
   "mimetype": "text/x-python",
   "name": "python",
   "nbconvert_exporter": "python",
   "pygments_lexer": "ipython3",
   "version": "3.7.1"
  }
 },
 "nbformat": 4,
 "nbformat_minor": 2
}
